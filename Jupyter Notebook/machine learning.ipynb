{
 "cells": [
  {
   "cell_type": "markdown",
   "metadata": {},
   "source": [
    "# machine learning\n",
    "1.KNN method used for numerical data to identify categorical \n",
    "```{library}\n",
    "library(class)\n",
    "\n",
    "knn(train=train_data,test=test_data,cl=type,k=n,type=\"prob\")\n",
    "table(predicted,actual)\n",
    "mean(predicted==actual)\n",
    "\n",
    "for i in 1:20{\n",
    " i=n\n",
    " predicted=knn(train=train_data,test=test_data,cl=type,k=n,type=\"prob\")\n",
    " mean(predicted==actual)\n",
    " }\n",
    " ```\n",
    " "
   ]
  },
  {
   "cell_type": "markdown",
   "metadata": {},
   "source": [
    "2. bayes method used for categorical data to identify categorical\n",
    "\n",
    "    used for text mining\n",
    "```{library}\n",
    "library(naivebayes)\n",
    "model=naive_bayes(y~x,train_data,laplace=1,type=\"prob\")\n",
    "predict(model,test_data)\n",
    "```"
   ]
  },
  {
   "cell_type": "code",
   "execution_count": 5,
   "metadata": {},
   "outputs": [
    {
     "ename": "ERROR",
     "evalue": "Error in parse(text = x, srcfile = src): 不能用零長度的變數名\n",
     "output_type": "error",
     "traceback": [
      "Error in parse(text = x, srcfile = src): 不能用零長度的變數名\nTraceback:\n"
     ]
    }
   ],
   "source": [
    "#3. logistic regression\n",
    "\n",
    "```{log regression}\n",
    "model=glm(y~x,data,family=\"binomial\",type=\"response\")\n",
    "predict(model,data,)\n",
    "mean(predicted==actual)\n",
    "\n",
    "test of performance using ROC and AUC\n",
    "library(pROC)\n",
    "ROC=roc(actual,predicted)\n",
    "plot(ROC)\n",
    "auc(ROC)\n",
    "\n",
    "# Specify a null model with no predictors\n",
    "null_model <- glm(donated~1, data = donors, family = \"binomial\")\n",
    "\n",
    "# Specify the full model using all of the potential predictors\n",
    "full_model <- glm(donated~., data = donors, family = \"binomial\")\n",
    "\n",
    "# Use a forward stepwise algorithm to build a parsimonious model\n",
    "step_model <- step(null_model, scope = list(lower = null_model, upper = full_model), direction = \"forward\")\n",
    "```"
   ]
  },
  {
   "cell_type": "code",
   "execution_count": null,
   "metadata": {},
   "outputs": [],
   "source": [
    "#4. decision tree\n",
    "\n",
    "```{decision tree}\n",
    "library(rpart)\n",
    "model=rpart(y~x,data,method=\"class\", control = rpart.control(cp = 0))\n",
    "predict(model,test_data,type=\"class\")\n",
    "```\n",
    "```{plot a tree}\n",
    "library(rpart.plot)\n",
    "rpart.plot(loan_model, type = 3, box.palette = c(\"red\", \"green\"), fallen.leaves = TRUE)\n",
    "```\n",
    "\n",
    "```{subseting data}\n",
    "# Create a random sample of row IDs\n",
    "sample_rows <- sample(nrow(data), .75*nrow(data))\n",
    "\n",
    "# Create the training dataset\n",
    "loans_train <- loans[sample_rows,]\n",
    "\n",
    "# Create the test dataset\n",
    "loans_test <- loans[-sample_rows,]\n",
    "```\n",
    "\n",
    "```{parameter tuning}\n",
    "# Grow a tree with maxdepth of 6,cp is the error level,minsplit reject the observations less than 500\n",
    "loan_model <- rpart(y~x,method=\"class\",control=rpart.control(cp=0,maxdepth=6,minsplit=500))\n",
    "\n",
    "# Examine the complexity plot\n",
    "plotcp(loan_model)\n",
    "\n",
    "# Prune the tree\n",
    "loan_model_pruned <- prune(loan_model, cp = .0014)\n",
    "\n",
    "#check the prune model\n",
    "printcp(loan_model_prune)\n",
    "```\n",
    "\n",
    "```{decision forest}\n",
    "# Load the randomForest package\n",
    "library(randomForest)\n",
    "\n",
    "# Build a random forest model,mtry is no. of feature that one tree can have\n",
    "loan_model <- randomForest(outcome~., data = loans_train,ntree=500,mtry=squrt(p))\n",
    "```"
   ]
  },
  {
   "cell_type": "code",
   "execution_count": null,
   "metadata": {},
   "outputs": [],
   "source": []
  }
 ],
 "metadata": {
  "kernelspec": {
   "display_name": "R",
   "language": "R",
   "name": "ir"
  },
  "language_info": {
   "codemirror_mode": "r",
   "file_extension": ".r",
   "mimetype": "text/x-r-source",
   "name": "R",
   "pygments_lexer": "r",
   "version": "3.5.1"
  }
 },
 "nbformat": 4,
 "nbformat_minor": 2
}
