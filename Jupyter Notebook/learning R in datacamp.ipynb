{
 "cells": [
  {
   "cell_type": "code",
   "execution_count": null,
   "metadata": {},
   "outputs": [],
   "source": [
    "c(1:3)\n"
   ]
  },
  {
   "cell_type": "code",
   "execution_count": 7,
   "metadata": {},
   "outputs": [
    {
     "data": {
      "text/html": [
       "<ol class=list-inline>\n",
       "\t<li>TRUE</li>\n",
       "\t<li>TRUE</li>\n",
       "\t<li>FALSE</li>\n",
       "\t<li>TRUE</li>\n",
       "\t<li>TRUE</li>\n",
       "\t<li>FALSE</li>\n",
       "</ol>\n"
      ],
      "text/latex": [
       "\\begin{enumerate*}\n",
       "\\item TRUE\n",
       "\\item TRUE\n",
       "\\item FALSE\n",
       "\\item TRUE\n",
       "\\item TRUE\n",
       "\\item FALSE\n",
       "\\end{enumerate*}\n"
      ],
      "text/markdown": [
       "1. TRUE\n",
       "2. TRUE\n",
       "3. FALSE\n",
       "4. TRUE\n",
       "5. TRUE\n",
       "6. FALSE\n",
       "\n",
       "\n"
      ],
      "text/plain": [
       "[1]  TRUE  TRUE FALSE  TRUE  TRUE FALSE"
      ]
     },
     "metadata": {},
     "output_type": "display_data"
    },
    {
     "data": {
      "text/html": [
       "<ol class=list-inline>\n",
       "\t<li>1</li>\n",
       "\t<li>2</li>\n",
       "\t<li>4</li>\n",
       "\t<li>5</li>\n",
       "</ol>\n"
      ],
      "text/latex": [
       "\\begin{enumerate*}\n",
       "\\item 1\n",
       "\\item 2\n",
       "\\item 4\n",
       "\\item 5\n",
       "\\end{enumerate*}\n"
      ],
      "text/markdown": [
       "1. 1\n",
       "2. 2\n",
       "3. 4\n",
       "4. 5\n",
       "\n",
       "\n"
      ],
      "text/plain": [
       "[1] 1 2 4 5"
      ]
     },
     "metadata": {},
     "output_type": "display_data"
    },
    {
     "data": {
      "text/html": [
       "<ol class=list-inline>\n",
       "\t<li>'john.doe@ivyleague.edu'</li>\n",
       "\t<li>'education@world.gov'</li>\n",
       "\t<li>'invalid.edu'</li>\n",
       "\t<li>'quant@bigdatacollege.edu'</li>\n",
       "</ol>\n"
      ],
      "text/latex": [
       "\\begin{enumerate*}\n",
       "\\item 'john.doe@ivyleague.edu'\n",
       "\\item 'education@world.gov'\n",
       "\\item 'invalid.edu'\n",
       "\\item 'quant@bigdatacollege.edu'\n",
       "\\end{enumerate*}\n"
      ],
      "text/markdown": [
       "1. 'john.doe@ivyleague.edu'\n",
       "2. 'education@world.gov'\n",
       "3. 'invalid.edu'\n",
       "4. 'quant@bigdatacollege.edu'\n",
       "\n",
       "\n"
      ],
      "text/plain": [
       "[1] \"john.doe@ivyleague.edu\"   \"education@world.gov\"     \n",
       "[3] \"invalid.edu\"              \"quant@bigdatacollege.edu\""
      ]
     },
     "metadata": {},
     "output_type": "display_data"
    },
    {
     "data": {
      "text/html": [
       "<ol class=list-inline>\n",
       "\t<li>'john.doe@datacamp.edu'</li>\n",
       "\t<li>'education@world.gov'</li>\n",
       "\t<li>'global@peace.org'</li>\n",
       "\t<li>'invalid.edu'</li>\n",
       "\t<li>'quant@datacamp.edu'</li>\n",
       "\t<li>'cookie.monster@sesame.tv'</li>\n",
       "</ol>\n"
      ],
      "text/latex": [
       "\\begin{enumerate*}\n",
       "\\item 'john.doe@datacamp.edu'\n",
       "\\item 'education@world.gov'\n",
       "\\item 'global@peace.org'\n",
       "\\item 'invalid.edu'\n",
       "\\item 'quant@datacamp.edu'\n",
       "\\item 'cookie.monster@sesame.tv'\n",
       "\\end{enumerate*}\n"
      ],
      "text/markdown": [
       "1. 'john.doe@datacamp.edu'\n",
       "2. 'education@world.gov'\n",
       "3. 'global@peace.org'\n",
       "4. 'invalid.edu'\n",
       "5. 'quant@datacamp.edu'\n",
       "6. 'cookie.monster@sesame.tv'\n",
       "\n",
       "\n"
      ],
      "text/plain": [
       "[1] \"john.doe@datacamp.edu\"    \"education@world.gov\"     \n",
       "[3] \"global@peace.org\"         \"invalid.edu\"             \n",
       "[5] \"quant@datacamp.edu\"       \"cookie.monster@sesame.tv\""
      ]
     },
     "metadata": {},
     "output_type": "display_data"
    },
    {
     "data": {
      "text/html": [
       "<ol class=list-inline>\n",
       "\t<li>'john.doe@datacamp.edu'</li>\n",
       "\t<li>'education@world.gov'</li>\n",
       "\t<li>'global@peace.org'</li>\n",
       "\t<li>'invalid.edu'</li>\n",
       "\t<li>'quant@datacamp.edu'</li>\n",
       "\t<li>'cookie.monster@sesame.tv'</li>\n",
       "</ol>\n"
      ],
      "text/latex": [
       "\\begin{enumerate*}\n",
       "\\item 'john.doe@datacamp.edu'\n",
       "\\item 'education@world.gov'\n",
       "\\item 'global@peace.org'\n",
       "\\item 'invalid.edu'\n",
       "\\item 'quant@datacamp.edu'\n",
       "\\item 'cookie.monster@sesame.tv'\n",
       "\\end{enumerate*}\n"
      ],
      "text/markdown": [
       "1. 'john.doe@datacamp.edu'\n",
       "2. 'education@world.gov'\n",
       "3. 'global@peace.org'\n",
       "4. 'invalid.edu'\n",
       "5. 'quant@datacamp.edu'\n",
       "6. 'cookie.monster@sesame.tv'\n",
       "\n",
       "\n"
      ],
      "text/plain": [
       "[1] \"john.doe@datacamp.edu\"    \"education@world.gov\"     \n",
       "[3] \"global@peace.org\"         \"invalid.edu\"             \n",
       "[5] \"quant@datacamp.edu\"       \"cookie.monster@sesame.tv\""
      ]
     },
     "metadata": {},
     "output_type": "display_data"
    }
   ],
   "source": [
    "# functions\n",
    "## strings\n",
    "#grepl(x,y) \n",
    "#grepl(x,y) \n",
    "\n",
    "## example of grepl & grep\n",
    "#The emails vector has already been defined for you\n",
    "emails <- c(\"john.doe@ivyleague.edu\", \"education@world.gov\", \"dalai.lama@peace.org\",\n",
    "            \"invalid.edu\", \"quant@bigdatacollege.edu\", \"cookie.monster@sesame.tv\")\n",
    "\n",
    "#Use grepl() to match for \"edu\"\n",
    "grepl(\"edu\",emails)\n",
    "grep(\"edu\",emails)\n",
    "hits=grep(\"edu\",emails)\n",
    "c(emails[hits])\n",
    "\n",
    "#sub(x,y,z) only the first outcome\n",
    "#gsub(x,y,z)\n",
    "\n",
    "## example of sub & gsub\n",
    "#The emails vector has already been defined for you\n",
    "emails <- c(\"john.doe@ivyleague.edu\", \"education@world.gov\", \"global@peace.org\",\n",
    "            \"invalid.edu\", \"quant@bigdatacollege.edu\", \"cookie.monster@sesame.tv\")\n",
    "\n",
    "#Use sub() to convert the email domains to datacamp.edu\n",
    "sub(\"@.*\\\\.edu$\",\"@datacamp.edu\",emails)\n",
    "gsub(\"@.*\\\\.edu$\",\"@datacamp.edu\",emails)\n"
   ]
  },
  {
   "cell_type": "code",
   "execution_count": null,
   "metadata": {},
   "outputs": [],
   "source": []
  },
  {
   "cell_type": "code",
   "execution_count": null,
   "metadata": {},
   "outputs": [],
   "source": [
    "# Arguments of date,time\n",
    "%H: hours as a decimal number (00-23)\n",
    "%I: hours as a decimal number (01-12)\n",
    "%M: minutes as a decimal number\n",
    "%S: seconds as a decimal number\n",
    "%T: shorthand notation for the typical format %H:%M:%S\n",
    "%p: AM/PM indicator\n",
    "%Y: 4-digit year (1982)\n",
    "%y: 2-digit year (82)\n",
    "%m: 2-digit month (01)\n",
    "%d: 2-digit day of the month (13)\n",
    "%A: weekday (Wednesday)\n",
    "%a: abbreviated weekday (Wed)\n",
    "%B: month (January)\n",
    "%b: abbreviated month (Jan)\n",
    "# of strings\n",
    ".*: A usual suspect! It can be read as \"any character that is matched zero or more times\".\n",
    "\\\\s: Match a space. The \"s\" is normally a character, escaping it (\\\\) makes it a metacharacter.\n",
    "[0-9]+: Match the numbers 0 to 9, at least once (+).\n",
    "([0-9]+): The parentheses are used to make parts of the matching string available to define the replacement. The \\\\1 in the replacement argument of sub() gets set to the string that is captured by the regular expression [0-9]+.\n",
    "# Examples of strings\n",
    "awards <- c(\"Won 1 Oscar.\",\n",
    "  \"Won 1 Oscar. Another 9 wins & 24 nominations.\",\n",
    "  \"1 win and 2 nominations.\",\n",
    "  \"2 wins & 3 nominations.\",\n",
    "  \"Nominated for 2 Golden Globes. 1 more win & 2 nominations.\",\n",
    "  \"4 wins & 1 nomination.\")\n",
    "\n",
    "sub(\".*\\\\s([0-9]+)\\\\snomination.*$\", \"\\\\1\", awards)"
   ]
  },
  {
   "cell_type": "code",
   "execution_count": 2,
   "metadata": {},
   "outputs": [],
   "source": [
    "#datacamp\n",
    "#Ch1-introduction of R"
   ]
  },
  {
   "cell_type": "code",
   "execution_count": 15,
   "metadata": {
    "scrolled": true
   },
   "outputs": [
    {
     "name": "stdout",
     "output_type": "stream",
     "text": [
      "[1] 3\n",
      "[1] 6\n",
      "[1] 9\n",
      "[1] 12\n",
      "[1] 15\n",
      "[1] 18\n",
      "[1] 21\n",
      "[1] 24\n",
      "[1] 27\n",
      "[1] 30\n"
     ]
    }
   ],
   "source": [
    "#loop function-For\n",
    "x=c(1:10)\n",
    "for(num in x){\n",
    "    triple=3*num\n",
    "    print(triple)\n",
    "}\n"
   ]
  },
  {
   "cell_type": "code",
   "execution_count": 17,
   "metadata": {},
   "outputs": [
    {
     "name": "stdout",
     "output_type": "stream",
     "text": [
      "[1] 3\n",
      "[1] 4\n",
      "[1] 5\n",
      "[1] \"Stop!\"\n"
     ]
    }
   ],
   "source": [
    "#loop function-While\n",
    "x=3\n",
    "while(x<8){\n",
    "    print(x)\n",
    "    if(x==5){\n",
    "        print(\"Stop!\")\n",
    "        break\n",
    "    }\n",
    "    x=x+1\n",
    "    }"
   ]
  },
  {
   "cell_type": "code",
   "execution_count": null,
   "metadata": {},
   "outputs": [],
   "source": []
  },
  {
   "cell_type": "code",
   "execution_count": 10,
   "metadata": {},
   "outputs": [
    {
     "data": {
      "text/html": [
       "<ol>\n",
       "\t<li>3</li>\n",
       "\t<li>6</li>\n",
       "\t<li>9</li>\n",
       "\t<li>12</li>\n",
       "\t<li>15</li>\n",
       "\t<li>18</li>\n",
       "\t<li>21</li>\n",
       "\t<li>24</li>\n",
       "\t<li>27</li>\n",
       "\t<li>30</li>\n",
       "</ol>\n"
      ],
      "text/latex": [
       "\\begin{enumerate}\n",
       "\\item 3\n",
       "\\item 6\n",
       "\\item 9\n",
       "\\item 12\n",
       "\\item 15\n",
       "\\item 18\n",
       "\\item 21\n",
       "\\item 24\n",
       "\\item 27\n",
       "\\item 30\n",
       "\\end{enumerate}\n"
      ],
      "text/markdown": [
       "1. 3\n",
       "2. 6\n",
       "3. 9\n",
       "4. 12\n",
       "5. 15\n",
       "6. 18\n",
       "7. 21\n",
       "8. 24\n",
       "9. 27\n",
       "10. 30\n",
       "\n",
       "\n"
      ],
      "text/plain": [
       "[[1]]\n",
       "[1] 3\n",
       "\n",
       "[[2]]\n",
       "[1] 6\n",
       "\n",
       "[[3]]\n",
       "[1] 9\n",
       "\n",
       "[[4]]\n",
       "[1] 12\n",
       "\n",
       "[[5]]\n",
       "[1] 15\n",
       "\n",
       "[[6]]\n",
       "[1] 18\n",
       "\n",
       "[[7]]\n",
       "[1] 21\n",
       "\n",
       "[[8]]\n",
       "[1] 24\n",
       "\n",
       "[[9]]\n",
       "[1] 27\n",
       "\n",
       "[[10]]\n",
       "[1] 30\n"
      ]
     },
     "metadata": {},
     "output_type": "display_data"
    }
   ],
   "source": [
    "#lapply/sapply/vapply\n",
    "#output of lapply is a list\n",
    "tri=function(x){\n",
    "    3*x\n",
    "}\n",
    "lapply(x,tri)"
   ]
  },
  {
   "cell_type": "code",
   "execution_count": null,
   "metadata": {},
   "outputs": [],
   "source": []
  }
 ],
 "metadata": {
  "kernelspec": {
   "display_name": "R",
   "language": "R",
   "name": "ir"
  },
  "language_info": {
   "codemirror_mode": "r",
   "file_extension": ".r",
   "mimetype": "text/x-r-source",
   "name": "R",
   "pygments_lexer": "r",
   "version": "3.5.1"
  }
 },
 "nbformat": 4,
 "nbformat_minor": 2
}
