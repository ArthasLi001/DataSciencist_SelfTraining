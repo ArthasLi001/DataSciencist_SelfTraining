{
 "cells": [
  {
   "cell_type": "code",
   "execution_count": 4,
   "metadata": {},
   "outputs": [
    {
     "ename": "ERROR",
     "evalue": "Error in parse(text = x, srcfile = src): 不能用零長度的變數名\n",
     "output_type": "error",
     "traceback": [
      "Error in parse(text = x, srcfile = src): 不能用零長度的變數名\nTraceback:\n"
     ]
    }
   ],
   "source": [
    "### to deal with missing data \n",
    "```{mice package}\n",
    "libarary(mice)\n",
    "md.pattern(data)\n",
    "```\n",
    "\n",
    "\n"
   ]
  },
  {
   "cell_type": "code",
   "execution_count": 5,
   "metadata": {},
   "outputs": [
    {
     "ename": "ERROR",
     "evalue": "Error in parse(text = x, srcfile = src): 不能用零長度的變數名\n",
     "output_type": "error",
     "traceback": [
      "Error in parse(text = x, srcfile = src): 不能用零長度的變數名\nTraceback:\n"
     ]
    }
   ],
   "source": [
    "### to visiualize the missing data \n",
    "```{}\n",
    "library(VIM)\n",
    "aggr_plot <- aggr(data, col = c('navyblue', 'red'), numbers=TRUE, sortVars=TRUE, \n",
    "                  labels=names(data), cex.axis=.7, gap=3, \n",
    "                  ylab=c(\"Histogram of missing data\", \"Pattern\"))\n",
    "```\n"
   ]
  },
  {
   "cell_type": "code",
   "execution_count": 8,
   "metadata": {},
   "outputs": [
    {
     "name": "stderr",
     "output_type": "stream",
     "text": [
      "Your code contains a unicode char which cannot be displayed in your\n",
      "current locale and R will silently convert it to an escaped form when the\n",
      "R kernel executes this code. This can lead to subtle errors if you use\n",
      "such chars to do comparisons. For more information, please see\n",
      "https://github.com/IRkernel/repr/wiki/Problems-with-unicode-on-windows"
     ]
    },
    {
     "ename": "ERROR",
     "evalue": "Error in mice(data, m = 5, maxit = 50, meth = \"pmm\", seed = 500): 沒有這個函數 \"mice\"\n",
     "output_type": "error",
     "traceback": [
      "Error in mice(data, m = 5, maxit = 50, meth = \"pmm\", seed = 500): 沒有這個函數 \"mice\"\nTraceback:\n"
     ]
    }
   ],
   "source": [
    "### 参数注解： 1. m=5指的是插补数据集的数量，5是默认值 2. meth='pmm'指的是插补方法。在这里，我们使用预测均值匹配（Predictive mean matching ）作为插补方法。其他插补方法可以通过methods(mice)来查看。\n",
    "tempData <- mice(data,m=5,maxit=50,meth='pmm',seed=500)\n",
    "summary(tempData)\n",
    "### 如果你想查看插补的数据，例如Qzone变量，输入下面的代码行即可。\n",
    "tempData$imp$Ozone\n",
    "### 如果需要查看每个变量所用的插补方法，mice可以很容易的做到\n",
    "tempData$meth\n",
    "### 现在，我们可以使用complete()函数返回完整的数据集。\n",
    "completedData <- complete(tempData,1)"
   ]
  },
  {
   "cell_type": "code",
   "execution_count": 9,
   "metadata": {},
   "outputs": [
    {
     "ename": "ERROR",
     "evalue": "Error in hist(full$Age, freq = F, main = \"Age: Original Data\", col = \"darkgreen\", : 找不到物件 'full'\n",
     "output_type": "error",
     "traceback": [
      "Error in hist(full$Age, freq = F, main = \"Age: Original Data\", col = \"darkgreen\", : 找不到物件 'full'\nTraceback:\n",
      "1. hist(full$Age, freq = F, main = \"Age: Original Data\", col = \"darkgreen\", \n .     ylim = c(0, 0.04))"
     ]
    }
   ],
   "source": [
    "### check the age distribution\n",
    "\n",
    "par(mfrow=c(1,2))\n",
    "hist(full$Age, freq=F, main='Age: Original Data', \n",
    "  col='darkgreen', ylim=c(0,0.04))\n",
    "hist(mice_output$Age, freq=F, main='Age: MICE Output', \n",
    "  col='lightgreen', ylim=c(0,0.04))"
   ]
  },
  {
   "cell_type": "code",
   "execution_count": 10,
   "metadata": {},
   "outputs": [
    {
     "ename": "ERROR",
     "evalue": "Error in parse(text = x, srcfile = src): <text>:2:4: unexpected symbol\n1: ### 4.2 Building the model\n2: We then\n      ^\n",
     "output_type": "error",
     "traceback": [
      "Error in parse(text = x, srcfile = src): <text>:2:4: unexpected symbol\n1: ### 4.2 Building the model\n2: We then\n      ^\nTraceback:\n"
     ]
    }
   ],
   "source": [
    "### 4.2 Building the model\n",
    "We then build our model using randomForest on the training set.\n",
    "\n",
    "# Set a random seed\n",
    "set.seed(754)\n",
    "\n",
    "# Build the model (note: not all possible variables are used)\n",
    "rf_model <- randomForest(factor(Survived) ~ Pclass + Sex + Age + SibSp + Parch + \n",
    "                                            Fare + Embarked + Title + \n",
    "                                            FsizeD + Child + Mother,\n",
    "                                            data = train)\n",
    "\n",
    "# Show model error\n",
    "plot(rf_model, ylim=c(0,0.36))\n",
    "legend('topright', colnames(rf_model$err.rate), col=1:3, fill=1:3)"
   ]
  },
  {
   "cell_type": "code",
   "execution_count": null,
   "metadata": {},
   "outputs": [],
   "source": [
    "### 4.3 Variable importance\n",
    "Let’s look at relative variable importance by plotting the mean decrease in Gini calculated across all trees.\n",
    "\n",
    "# Get importance\n",
    "importance    <- importance(rf_model)\n",
    "varImportance <- data.frame(Variables = row.names(importance), \n",
    "                            Importance = round(importance[ ,'MeanDecreaseGini'],2))\n",
    "\n",
    "# Create a rank variable based on importance\n",
    "rankImportance <- varImportance %>%\n",
    "  mutate(Rank = paste0('#',dense_rank(desc(Importance))))\n",
    "\n",
    "# Use ggplot2 to visualize the relative importance of variables\n",
    "ggplot(rankImportance, aes(x = reorder(Variables, Importance), \n",
    "    y = Importance, fill = Importance)) +\n",
    "  geom_bar(stat='identity') + \n",
    "  geom_text(aes(x = Variables, y = 0.5, label = Rank),\n",
    "    hjust=0, vjust=0.55, size = 4, colour = 'red') +\n",
    "  labs(x = 'Variables') +\n",
    "  coord_flip() + \n",
    "  theme_few()"
   ]
  }
 ],
 "metadata": {
  "kernelspec": {
   "display_name": "R",
   "language": "R",
   "name": "ir"
  },
  "language_info": {
   "codemirror_mode": "r",
   "file_extension": ".r",
   "mimetype": "text/x-r-source",
   "name": "R",
   "pygments_lexer": "r",
   "version": "3.5.1"
  }
 },
 "nbformat": 4,
 "nbformat_minor": 2
}
